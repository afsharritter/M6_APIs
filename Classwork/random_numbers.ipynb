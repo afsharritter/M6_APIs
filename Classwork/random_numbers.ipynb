{
 "cells": [
  {
   "cell_type": "code",
   "execution_count": 1,
   "id": "2e8fb564",
   "metadata": {},
   "outputs": [],
   "source": [
    "import random"
   ]
  },
  {
   "cell_type": "code",
   "execution_count": 9,
   "id": "df077205",
   "metadata": {},
   "outputs": [
    {
     "data": {
      "text/plain": [
       "0.34334889985992767"
      ]
     },
     "execution_count": 9,
     "metadata": {},
     "output_type": "execute_result"
    }
   ],
   "source": [
    "#returns a float between 0 and 1\n",
    "random.random()"
   ]
  },
  {
   "cell_type": "code",
   "execution_count": 10,
   "id": "4c10bd0f",
   "metadata": {},
   "outputs": [
    {
     "data": {
      "text/plain": [
       "-7"
      ]
     },
     "execution_count": 10,
     "metadata": {},
     "output_type": "execute_result"
    }
   ],
   "source": [
    "#returns a an integer between the lower and upper bounds\n",
    "random.randint(-10,10)"
   ]
  },
  {
   "cell_type": "code",
   "execution_count": 11,
   "id": "d93483e7",
   "metadata": {},
   "outputs": [
    {
     "data": {
      "text/plain": [
       "-1"
      ]
     },
     "execution_count": 11,
     "metadata": {},
     "output_type": "execute_result"
    }
   ],
   "source": [
    "#returns a whole integer between the interval, that is divisible by the step (in this case 2)\n",
    "random.randrange(-9,9,2)"
   ]
  },
  {
   "cell_type": "code",
   "execution_count": 12,
   "id": "6bfaad22",
   "metadata": {},
   "outputs": [
    {
     "data": {
      "text/plain": [
       "1.3372810584469441"
      ]
     },
     "execution_count": 12,
     "metadata": {},
     "output_type": "execute_result"
    }
   ],
   "source": [
    "#gives a float between the lower and upper bounds\n",
    "random.uniform(-10,10)"
   ]
  },
  {
   "cell_type": "code",
   "execution_count": 13,
   "id": "22ddeccc",
   "metadata": {},
   "outputs": [
    {
     "data": {
      "text/plain": [
       "5.613782553022926"
      ]
     },
     "execution_count": 13,
     "metadata": {},
     "output_type": "execute_result"
    }
   ],
   "source": [
    "#lets create floating point latitudes\n",
    "random_number = random.randint(-90,89) + random.random()\n",
    "random_number"
   ]
  },
  {
   "cell_type": "code",
   "execution_count": 15,
   "id": "ceefcf70",
   "metadata": {},
   "outputs": [
    {
     "data": {
      "text/plain": [
       "[-73.04818398773361,\n",
       " 24.26702162274503,\n",
       " 66.34477968992655,\n",
       " -74.68859941312274,\n",
       " 55.57367088669514,\n",
       " -9.176091016793903,\n",
       " 21.121338871939077,\n",
       " 42.9885625468446,\n",
       " 84.77761406264487,\n",
       " 48.71853351149]"
      ]
     },
     "execution_count": 15,
     "metadata": {},
     "output_type": "execute_result"
    }
   ],
   "source": [
    "#assign the variable x to 1\n",
    "x = 1\n",
    "\n",
    "#initialize an empty list, latitudes\n",
    "latitudes = []\n",
    "\n",
    "# create a while loop where we generate a random latitude and add it to the list\n",
    "while x <11:\n",
    "    random_lat = random.randint(-90,89) + random.random()\n",
    "    latitudes.append(random_lat)\n",
    "    # after the random latitude is added to the list we add one to the variable 'x'\n",
    "    x += 1\n",
    "\n",
    "# while loop condition is checked again and will continue to run as long as x is less than 11\n",
    "latitudes"
   ]
  },
  {
   "cell_type": "code",
   "execution_count": 17,
   "id": "e393351c",
   "metadata": {},
   "outputs": [
    {
     "data": {
      "text/plain": [
       "[165.87817691113463,\n",
       " -6.7815276937626185,\n",
       " 50.727083775206715,\n",
       " 67.29793940516811,\n",
       " 76.71304328440449,\n",
       " -86.90470073112539,\n",
       " 115.10363162746427,\n",
       " -146.5991492212003,\n",
       " -8.505653474178573,\n",
       " 78.66460973305817]"
      ]
     },
     "execution_count": 17,
     "metadata": {},
     "output_type": "execute_result"
    }
   ],
   "source": [
    "#do the same shit for longitudes\n",
    "y = 1\n",
    "\n",
    "longitudes = []\n",
    "\n",
    "while y < 11:\n",
    "    random_long = random.randint(-180,179) + random.random()\n",
    "    longitudes.append(random_long)\n",
    "    y += 1\n",
    "    \n",
    "longitudes"
   ]
  },
  {
   "cell_type": "code",
   "execution_count": 19,
   "id": "949afd00",
   "metadata": {},
   "outputs": [
    {
     "data": {
      "text/plain": [
       "array([ -1.97334393,  24.20185216,   9.12403669, -38.9679432 ,\n",
       "        59.87869301,   9.69761697,  -7.1187051 , -34.71133749,\n",
       "        22.38035806, -67.71279283,  81.58407632, -66.72251226,\n",
       "       -42.15918026,  84.84122201,  28.77958452, -67.46265466,\n",
       "        58.22623576,  67.99610343,  74.46709855,  33.21705075,\n",
       "        11.35181287,  -3.3105837 , -52.96954354, -15.10268287,\n",
       "       -18.39377008,  86.62469563,   3.17825341, -56.73925805,\n",
       "       -76.63112915, -22.20997837,  24.26882784,  16.93573561,\n",
       "        48.96398331, -12.22848702,  80.38025278, -17.86499312,\n",
       "       -78.15510526,  -5.65403544, -38.20336763,  50.22001067,\n",
       "        48.73626786,  42.99281629, -77.63089884,  44.51248955,\n",
       "        69.87208153,  35.61711242, -24.28378131,  88.44460988,\n",
       "        28.24685371, -12.14759485])"
      ]
     },
     "execution_count": 19,
     "metadata": {},
     "output_type": "execute_result"
    }
   ],
   "source": [
    "import numpy as np\n",
    "np.random.uniform(-90, 90, size=50)"
   ]
  },
  {
   "cell_type": "code",
   "execution_count": 20,
   "id": "9502bc62",
   "metadata": {},
   "outputs": [
    {
     "name": "stdout",
     "output_type": "stream",
     "text": [
      "11.6 µs ± 339 ns per loop (mean ± std. dev. of 7 runs, 100,000 loops each)\n"
     ]
    }
   ],
   "source": [
    "import timeit\n",
    "%timeit np.random.uniform(-90,90,size=1500)"
   ]
  },
  {
   "cell_type": "code",
   "execution_count": 22,
   "id": "658d88c4",
   "metadata": {},
   "outputs": [
    {
     "name": "stdout",
     "output_type": "stream",
     "text": [
      "1.12 ms ± 35.8 µs per loop (mean ± std. dev. of 7 runs, 1,000 loops each)\n"
     ]
    }
   ],
   "source": [
    "def latitudes(size):\n",
    "    latitudes = []\n",
    "    x = 0\n",
    "    while x < (size):\n",
    "        random_lat = random.randint(-90,90) + random.random()\n",
    "        latitudes.append(random_lat)\n",
    "        x += 1\n",
    "    return latitudes\n",
    "#call the function with 1500\n",
    "%timeit latitudes(1500)\n",
    "    "
   ]
  },
  {
   "cell_type": "code",
   "execution_count": 23,
   "id": "64f10a49",
   "metadata": {},
   "outputs": [
    {
     "name": "stdout",
     "output_type": "stream",
     "text": [
      "16.6 ns ± 0.304 ns per loop (mean ± std. dev. of 7 runs, 100,000,000 loops each)\n"
     ]
    }
   ],
   "source": [
    "x = 0\n",
    "latitudes = []\n",
    "while x < 1500:\n",
    "    random_lat = random.uniform(-90,90)\n",
    "    latitudes.append(random_lat)\n",
    "    x += 1\n",
    "%timeit latitudes"
   ]
  },
  {
   "cell_type": "code",
   "execution_count": null,
   "id": "dcb3938a",
   "metadata": {},
   "outputs": [],
   "source": []
  }
 ],
 "metadata": {
  "kernelspec": {
   "display_name": "PythonData",
   "language": "python",
   "name": "pythondata"
  },
  "language_info": {
   "codemirror_mode": {
    "name": "ipython",
    "version": 3
   },
   "file_extension": ".py",
   "mimetype": "text/x-python",
   "name": "python",
   "nbconvert_exporter": "python",
   "pygments_lexer": "ipython3",
   "version": "3.9.12"
  }
 },
 "nbformat": 4,
 "nbformat_minor": 5
}
